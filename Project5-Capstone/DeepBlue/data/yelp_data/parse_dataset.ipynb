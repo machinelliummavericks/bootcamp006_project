{
 "cells": [
  {
   "cell_type": "code",
   "execution_count": 5,
   "metadata": {
    "collapsed": false
   },
   "outputs": [
    {
     "data": {
      "text/plain": [
       "'en_US.UTF-8'"
      ]
     },
     "execution_count": 5,
     "metadata": {},
     "output_type": "execute_result"
    }
   ],
   "source": [
    "import json\n",
    "import locale\n",
    "locale.setlocale( locale.LC_ALL, 'en_US.UTF-8' ) "
   ]
  },
  {
   "cell_type": "code",
   "execution_count": 11,
   "metadata": {
    "collapsed": false
   },
   "outputs": [
    {
     "name": "stdout",
     "output_type": "stream",
     "text": [
      "61049\n"
     ]
    }
   ],
   "source": [
    "checkin_file_path = \"/Users/sundeepblue/Bootcamp/week9/capstone/data/yelp_data/yelp_academic_dataset_checkin.json\"\n",
    "\n",
    "with open(checkin_file_path) as f:\n",
    "    lines = f.readlines()\n",
    "print len(lines)"
   ]
  },
  {
   "cell_type": "code",
   "execution_count": 17,
   "metadata": {
    "collapsed": false
   },
   "outputs": [
    {
     "name": "stdout",
     "output_type": "stream",
     "text": [
      "{u'checkin_info': {u'9-5': 1, u'7-5': 1, u'13-3': 1, u'17-6': 1, u'13-0': 1, u'17-3': 1, u'10-0': 1, u'18-4': 1, u'14-6': 1}, u'type': u'checkin', u'business_id': u'cE27W9VPgO88Qxe4ol6y_g'}\n",
      "[u'checkin_info', u'type', u'business_id']\n"
     ]
    }
   ],
   "source": [
    "j = json.loads(lines[0])\n",
    "print j\n",
    "print j.keys()"
   ]
  },
  {
   "cell_type": "code",
   "execution_count": 21,
   "metadata": {
    "collapsed": false
   },
   "outputs": [
    {
     "name": "stdout",
     "output_type": "stream",
     "text": [
      "85901\n",
      "[u'city', u'review_count', u'name', u'neighborhoods', u'type', u'business_id', u'full_address', u'hours', u'state', u'longitude', u'stars', u'latitude', u'attributes', u'open', u'categories']\n"
     ]
    }
   ],
   "source": [
    "business_file_path = \"/Users/sundeepblue/Bootcamp/week9/capstone/data/yelp_data/yelp_academic_dataset_business.json\"\n",
    "with open(business_file_path) as f:\n",
    "    lines = f.readlines()\n",
    "print len(lines)\n",
    "print json.loads(lines[0]).keys()"
   ]
  },
  {
   "cell_type": "code",
   "execution_count": null,
   "metadata": {
    "collapsed": true
   },
   "outputs": [],
   "source": []
  },
  {
   "cell_type": "code",
   "execution_count": 27,
   "metadata": {
    "collapsed": false
   },
   "outputs": [
    {
     "name": "stdout",
     "output_type": "stream",
     "text": [
      "648902\n",
      "[u'user_id', u'text', u'business_id', u'likes', u'date', u'type']\n"
     ]
    }
   ],
   "source": [
    "tip_file_path = \"/Users/sundeepblue/Bootcamp/week9/capstone/data/yelp_data/yelp_academic_dataset_tip.json\"\n",
    "with open(tip_file_path) as f:\n",
    "    lines = f.readlines()\n",
    "print len(lines)\n",
    "print json.loads(lines[0]).keys()"
   ]
  },
  {
   "cell_type": "code",
   "execution_count": null,
   "metadata": {
    "collapsed": true
   },
   "outputs": [],
   "source": []
  },
  {
   "cell_type": "code",
   "execution_count": 26,
   "metadata": {
    "collapsed": false
   },
   "outputs": [
    {
     "name": "stdout",
     "output_type": "stream",
     "text": [
      "686556\n",
      "[u'yelping_since', u'votes', u'user_id', u'name', u'elite', u'type', u'compliments', u'fans', u'average_stars', u'review_count', u'friends']\n"
     ]
    }
   ],
   "source": [
    "user_file_path = \"/Users/sundeepblue/Bootcamp/week9/capstone/data/yelp_data/yelp_academic_dataset_user.json\"\n",
    "with open(user_file_path) as f:\n",
    "    lines = f.readlines()\n",
    "print len(lines)\n",
    "print json.loads(lines[0]).keys()"
   ]
  },
  {
   "cell_type": "code",
   "execution_count": null,
   "metadata": {
    "collapsed": true
   },
   "outputs": [],
   "source": []
  },
  {
   "cell_type": "code",
   "execution_count": 25,
   "metadata": {
    "collapsed": false
   },
   "outputs": [
    {
     "name": "stdout",
     "output_type": "stream",
     "text": [
      "loading...\n",
      "2685066\n",
      "[u'votes', u'user_id', u'review_id', u'text', u'business_id', u'stars', u'date', u'type']\n"
     ]
    }
   ],
   "source": [
    "review_file_path = \"/Users/sundeepblue/Bootcamp/week9/capstone/data/yelp_data/yelp_academic_dataset_review.json\" #big\n",
    "with open(review_file_path) as f:\n",
    "    print \"loading...\"\n",
    "    lines = f.readlines()\n",
    "print len(lines)\n",
    "print json.loads(lines[0]).keys()"
   ]
  },
  {
   "cell_type": "code",
   "execution_count": null,
   "metadata": {
    "collapsed": true
   },
   "outputs": [],
   "source": []
  }
 ],
 "metadata": {
  "kernelspec": {
   "display_name": "Python 2",
   "language": "python",
   "name": "python2"
  },
  "language_info": {
   "codemirror_mode": {
    "name": "ipython",
    "version": 2
   },
   "file_extension": ".py",
   "mimetype": "text/x-python",
   "name": "python",
   "nbconvert_exporter": "python",
   "pygments_lexer": "ipython2",
   "version": "2.7.12"
  }
 },
 "nbformat": 4,
 "nbformat_minor": 0
}
